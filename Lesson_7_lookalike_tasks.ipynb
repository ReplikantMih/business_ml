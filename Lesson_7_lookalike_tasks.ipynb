{
 "cells": [
  {
   "cell_type": "code",
   "execution_count": 1,
   "metadata": {},
   "outputs": [],
   "source": [
    "import os\n",
    "from datetime import datetime\n",
    "\n",
    "import numpy as np\n",
    "import pandas as pd\n",
    "import matplotlib.pyplot as plt\n",
    "\n",
    "from xgboost import XGBClassifier\n",
    "from sklearn.ensemble import RandomForestClassifier\n",
    "\n",
    "from sklearn.metrics import roc_auc_score, precision_score"
   ]
  },
  {
   "cell_type": "markdown",
   "metadata": {},
   "source": [
    "### Task_1:"
   ]
  },
  {
   "cell_type": "markdown",
   "metadata": {},
   "source": [
    "1.\tвзять любой набор данных для бинарной классификации (можно скачать один из модельных с https://archive.ics.uci.edu/ml/datasets.php)"
   ]
  },
  {
   "cell_type": "code",
   "execution_count": 2,
   "metadata": {},
   "outputs": [],
   "source": [
    "# Чтоб 2 раза не вставать, буду предиктить на данных фондового рынка, так называемые данные OHLCV, где берется интервал,\n",
    "# например, один торговый день, и все сделки за некоторый период, например, 3 года, семплируются по дням и вычисляются\n",
    "# значения: цена начала периода (в данном случае дня), конца, минимальная за период, максимальная - Open, High, Low, Close\n",
    "# ну и Volume - объем за период (кол-во проторгованных акций за период).\n",
    "\n",
    "# Чтобы привести к бинарной классификации буду предиктить на n периодов вперед направлеине приращения цены."
   ]
  },
  {
   "cell_type": "code",
   "execution_count": 3,
   "metadata": {},
   "outputs": [
    {
     "data": {
      "text/plain": [
       "['AFLT.csv',\n",
       " 'EURUSD15.csv',\n",
       " 'EURUSD240.csv',\n",
       " 'EURUSD30.csv',\n",
       " 'EURUSD60.csv',\n",
       " 'GAZP.csv',\n",
       " 'LKOH.csv',\n",
       " 'MGNT.csv',\n",
       " 'micex_daily_artem.csv',\n",
       " 'PLZL.csv',\n",
       " 'ROSN.csv',\n",
       " 'TATN.csv',\n",
       " 'YNDX.csv']"
      ]
     },
     "execution_count": 3,
     "metadata": {},
     "output_type": "execute_result"
    }
   ],
   "source": [
    "files = [file for file in os.listdir() if 'csv' in file]\n",
    "files"
   ]
  },
  {
   "cell_type": "code",
   "execution_count": 4,
   "metadata": {},
   "outputs": [
    {
     "data": {
      "text/html": [
       "<div>\n",
       "<style scoped>\n",
       "    .dataframe tbody tr th:only-of-type {\n",
       "        vertical-align: middle;\n",
       "    }\n",
       "\n",
       "    .dataframe tbody tr th {\n",
       "        vertical-align: top;\n",
       "    }\n",
       "\n",
       "    .dataframe thead th {\n",
       "        text-align: right;\n",
       "    }\n",
       "</style>\n",
       "<table border=\"1\" class=\"dataframe\">\n",
       "  <thead>\n",
       "    <tr style=\"text-align: right;\">\n",
       "      <th></th>\n",
       "      <th>&lt;TIME&gt;</th>\n",
       "      <th>&lt;CLOSE&gt;</th>\n",
       "      <th>&lt;OPEN&gt;</th>\n",
       "      <th>&lt;HIGH&gt;</th>\n",
       "      <th>&lt;LOW&gt;</th>\n",
       "      <th>&lt;VOL&gt;</th>\n",
       "      <th>&lt;PER&gt;</th>\n",
       "      <th>&lt;TICKER&gt;</th>\n",
       "      <th>&lt;DATE&gt;</th>\n",
       "    </tr>\n",
       "  </thead>\n",
       "  <tbody>\n",
       "    <tr>\n",
       "      <th>0</th>\n",
       "      <td>180000</td>\n",
       "      <td>1.64</td>\n",
       "      <td>1.64</td>\n",
       "      <td>1.64</td>\n",
       "      <td>1.64</td>\n",
       "      <td>500</td>\n",
       "      <td>1</td>\n",
       "      <td>AFLT</td>\n",
       "      <td>19990322</td>\n",
       "    </tr>\n",
       "    <tr>\n",
       "      <th>1</th>\n",
       "      <td>180000</td>\n",
       "      <td>4.00</td>\n",
       "      <td>4.00</td>\n",
       "      <td>4.00</td>\n",
       "      <td>4.00</td>\n",
       "      <td>500</td>\n",
       "      <td>1</td>\n",
       "      <td>AFLT</td>\n",
       "      <td>19990811</td>\n",
       "    </tr>\n",
       "    <tr>\n",
       "      <th>2</th>\n",
       "      <td>180000</td>\n",
       "      <td>2.30</td>\n",
       "      <td>2.30</td>\n",
       "      <td>2.30</td>\n",
       "      <td>2.30</td>\n",
       "      <td>13250</td>\n",
       "      <td>1</td>\n",
       "      <td>AFLT</td>\n",
       "      <td>19990826</td>\n",
       "    </tr>\n",
       "    <tr>\n",
       "      <th>3</th>\n",
       "      <td>180000</td>\n",
       "      <td>0.01</td>\n",
       "      <td>2.50</td>\n",
       "      <td>2.50</td>\n",
       "      <td>0.01</td>\n",
       "      <td>2</td>\n",
       "      <td>1</td>\n",
       "      <td>AFLT</td>\n",
       "      <td>19990915</td>\n",
       "    </tr>\n",
       "    <tr>\n",
       "      <th>4</th>\n",
       "      <td>180000</td>\n",
       "      <td>1.30</td>\n",
       "      <td>1.30</td>\n",
       "      <td>1.30</td>\n",
       "      <td>1.30</td>\n",
       "      <td>1000</td>\n",
       "      <td>1</td>\n",
       "      <td>AFLT</td>\n",
       "      <td>19990922</td>\n",
       "    </tr>\n",
       "  </tbody>\n",
       "</table>\n",
       "</div>"
      ],
      "text/plain": [
       "   <TIME>  <CLOSE>  <OPEN>  <HIGH>  <LOW>  <VOL>  <PER> <TICKER>    <DATE>\n",
       "0  180000     1.64    1.64    1.64   1.64    500      1     AFLT  19990322\n",
       "1  180000     4.00    4.00    4.00   4.00    500      1     AFLT  19990811\n",
       "2  180000     2.30    2.30    2.30   2.30  13250      1     AFLT  19990826\n",
       "3  180000     0.01    2.50    2.50   0.01      2      1     AFLT  19990915\n",
       "4  180000     1.30    1.30    1.30   1.30   1000      1     AFLT  19990922"
      ]
     },
     "execution_count": 4,
     "metadata": {},
     "output_type": "execute_result"
    }
   ],
   "source": [
    "df = pd.read_csv('AFLT.csv', sep=';')\n",
    "df.head(5)"
   ]
  },
  {
   "cell_type": "markdown",
   "metadata": {},
   "source": [
    "### Task_2:"
   ]
  },
  {
   "cell_type": "markdown",
   "metadata": {},
   "source": [
    "2.\tсделать eda (как на занятии 6 с примером для оттока)"
   ]
  },
  {
   "cell_type": "code",
   "execution_count": 5,
   "metadata": {},
   "outputs": [
    {
     "name": "stdout",
     "output_type": "stream",
     "text": [
      "<class 'pandas.core.frame.DataFrame'>\n",
      "RangeIndex: 5055 entries, 0 to 5054\n",
      "Data columns (total 9 columns):\n",
      "<TIME>      5055 non-null int64\n",
      "<CLOSE>     5055 non-null float64\n",
      "<OPEN>      5055 non-null float64\n",
      "<HIGH>      5055 non-null float64\n",
      "<LOW>       5055 non-null float64\n",
      "<VOL>       5055 non-null int64\n",
      "<PER>       5055 non-null int64\n",
      "<TICKER>    5055 non-null object\n",
      "<DATE>      5055 non-null int64\n",
      "dtypes: float64(4), int64(4), object(1)\n",
      "memory usage: 355.5+ KB\n"
     ]
    }
   ],
   "source": [
    "df.info()"
   ]
  },
  {
   "cell_type": "code",
   "execution_count": 6,
   "metadata": {},
   "outputs": [
    {
     "data": {
      "text/plain": [
       "Index(['time', 'close', 'open', 'high', 'low', 'vol', 'per', 'ticker', 'date'], dtype='object')"
      ]
     },
     "execution_count": 6,
     "metadata": {},
     "output_type": "execute_result"
    }
   ],
   "source": [
    "df.columns = [column.lower()[1:-1] for column in df.columns]\n",
    "df.columns"
   ]
  },
  {
   "cell_type": "code",
   "execution_count": 7,
   "metadata": {},
   "outputs": [],
   "source": [
    "df.index = df['date'].apply(lambda date_: datetime(year=int(str(date_)[:4]),\n",
    "                                                  month=int(str(date_)[4:6]),\n",
    "                                                  day=int(str(date_)[6:])))"
   ]
  },
  {
   "cell_type": "code",
   "execution_count": 8,
   "metadata": {},
   "outputs": [
    {
     "data": {
      "text/html": [
       "<div>\n",
       "<style scoped>\n",
       "    .dataframe tbody tr th:only-of-type {\n",
       "        vertical-align: middle;\n",
       "    }\n",
       "\n",
       "    .dataframe tbody tr th {\n",
       "        vertical-align: top;\n",
       "    }\n",
       "\n",
       "    .dataframe thead th {\n",
       "        text-align: right;\n",
       "    }\n",
       "</style>\n",
       "<table border=\"1\" class=\"dataframe\">\n",
       "  <thead>\n",
       "    <tr style=\"text-align: right;\">\n",
       "      <th></th>\n",
       "      <th>time</th>\n",
       "      <th>close</th>\n",
       "      <th>open</th>\n",
       "      <th>high</th>\n",
       "      <th>low</th>\n",
       "      <th>vol</th>\n",
       "      <th>per</th>\n",
       "      <th>ticker</th>\n",
       "      <th>date</th>\n",
       "    </tr>\n",
       "    <tr>\n",
       "      <th>date</th>\n",
       "      <th></th>\n",
       "      <th></th>\n",
       "      <th></th>\n",
       "      <th></th>\n",
       "      <th></th>\n",
       "      <th></th>\n",
       "      <th></th>\n",
       "      <th></th>\n",
       "      <th></th>\n",
       "    </tr>\n",
       "  </thead>\n",
       "  <tbody>\n",
       "    <tr>\n",
       "      <th>1999-03-22</th>\n",
       "      <td>180000</td>\n",
       "      <td>1.64</td>\n",
       "      <td>1.64</td>\n",
       "      <td>1.64</td>\n",
       "      <td>1.64</td>\n",
       "      <td>500</td>\n",
       "      <td>1</td>\n",
       "      <td>AFLT</td>\n",
       "      <td>19990322</td>\n",
       "    </tr>\n",
       "  </tbody>\n",
       "</table>\n",
       "</div>"
      ],
      "text/plain": [
       "              time  close  open  high   low  vol  per ticker      date\n",
       "date                                                                  \n",
       "1999-03-22  180000   1.64  1.64  1.64  1.64  500    1   AFLT  19990322"
      ]
     },
     "execution_count": 8,
     "metadata": {},
     "output_type": "execute_result"
    }
   ],
   "source": [
    "df.head(1)"
   ]
  },
  {
   "cell_type": "code",
   "execution_count": 9,
   "metadata": {},
   "outputs": [
    {
     "data": {
      "text/html": [
       "<div>\n",
       "<style scoped>\n",
       "    .dataframe tbody tr th:only-of-type {\n",
       "        vertical-align: middle;\n",
       "    }\n",
       "\n",
       "    .dataframe tbody tr th {\n",
       "        vertical-align: top;\n",
       "    }\n",
       "\n",
       "    .dataframe thead th {\n",
       "        text-align: right;\n",
       "    }\n",
       "</style>\n",
       "<table border=\"1\" class=\"dataframe\">\n",
       "  <thead>\n",
       "    <tr style=\"text-align: right;\">\n",
       "      <th></th>\n",
       "      <th>close</th>\n",
       "      <th>open</th>\n",
       "      <th>high</th>\n",
       "      <th>low</th>\n",
       "      <th>volume</th>\n",
       "    </tr>\n",
       "    <tr>\n",
       "      <th>date</th>\n",
       "      <th></th>\n",
       "      <th></th>\n",
       "      <th></th>\n",
       "      <th></th>\n",
       "      <th></th>\n",
       "    </tr>\n",
       "  </thead>\n",
       "  <tbody>\n",
       "    <tr>\n",
       "      <th>1999-03-22</th>\n",
       "      <td>1.64</td>\n",
       "      <td>1.64</td>\n",
       "      <td>1.64</td>\n",
       "      <td>1.64</td>\n",
       "      <td>500</td>\n",
       "    </tr>\n",
       "    <tr>\n",
       "      <th>1999-08-11</th>\n",
       "      <td>4.00</td>\n",
       "      <td>4.00</td>\n",
       "      <td>4.00</td>\n",
       "      <td>4.00</td>\n",
       "      <td>500</td>\n",
       "    </tr>\n",
       "    <tr>\n",
       "      <th>1999-08-26</th>\n",
       "      <td>2.30</td>\n",
       "      <td>2.30</td>\n",
       "      <td>2.30</td>\n",
       "      <td>2.30</td>\n",
       "      <td>13250</td>\n",
       "    </tr>\n",
       "  </tbody>\n",
       "</table>\n",
       "</div>"
      ],
      "text/plain": [
       "            close  open  high   low  volume\n",
       "date                                       \n",
       "1999-03-22   1.64  1.64  1.64  1.64     500\n",
       "1999-08-11   4.00  4.00  4.00  4.00     500\n",
       "1999-08-26   2.30  2.30  2.30  2.30   13250"
      ]
     },
     "execution_count": 9,
     "metadata": {},
     "output_type": "execute_result"
    }
   ],
   "source": [
    "# Удаляю период, акцию - признак не информативен, одинаковые значения по всей выборке,\n",
    "# дату, время удаляю, потому что собрал из них человеческую дату.\n",
    "df.drop(columns=['time', 'date', 'ticker', 'per'], inplace=True)\n",
    "df.rename(columns={'vol': 'volume'}, inplace=True)\n",
    "df.head(3)"
   ]
  },
  {
   "cell_type": "code",
   "execution_count": 10,
   "metadata": {},
   "outputs": [
    {
     "name": "stderr",
     "output_type": "stream",
     "text": [
      "C:\\Users\\Mihail\\Anaconda3\\lib\\site-packages\\pandas\\plotting\\_converter.py:129: FutureWarning: Using an implicitly registered datetime converter for a matplotlib plotting method. The converter was registered by pandas on import. Future versions of pandas will require you to explicitly register matplotlib converters.\n",
      "\n",
      "To register the converters:\n",
      "\t>>> from pandas.plotting import register_matplotlib_converters\n",
      "\t>>> register_matplotlib_converters()\n",
      "  warnings.warn(msg, FutureWarning)\n"
     ]
    },
    {
     "data": {
      "text/plain": [
       "[<matplotlib.lines.Line2D at 0x1c22fe5c588>]"
      ]
     },
     "execution_count": 10,
     "metadata": {},
     "output_type": "execute_result"
    },
    {
     "data": {
      "image/png": "[encoded data removed]",
      "text/plain": [
       "<Figure size 432x288 with 1 Axes>"
      ]
     },
     "metadata": {
      "needs_background": "light"
     },
     "output_type": "display_data"
    }
   ],
   "source": [
    "plt.plot(df['close'])"
   ]
  },
  {
   "cell_type": "code",
   "execution_count": 11,
   "metadata": {},
   "outputs": [
    {
     "data": {
      "text/plain": [
       "[<matplotlib.lines.Line2D at 0x1c230110748>]"
      ]
     },
     "execution_count": 11,
     "metadata": {},
     "output_type": "execute_result"
    },
    {
     "data": {
      "image/png": "[encoded data removed]",
      "text/plain": [
       "<Figure size 432x288 with 1 Axes>"
      ]
     },
     "metadata": {
      "needs_background": "light"
     },
     "output_type": "display_data"
    }
   ],
   "source": [
    "plt.plot(df.resample('M').mean()['close'])"
   ]
  },
  {
   "cell_type": "code",
   "execution_count": 12,
   "metadata": {},
   "outputs": [
    {
     "data": {
      "text/plain": [
       "[<matplotlib.lines.Line2D at 0x1c230173d30>]"
      ]
     },
     "execution_count": 12,
     "metadata": {},
     "output_type": "execute_result"
    },
    {
     "data": {
      "image/png": "[encoded data removed]",
      "text/plain": [
       "<Figure size 432x288 with 1 Axes>"
      ]
     },
     "metadata": {
      "needs_background": "light"
     },
     "output_type": "display_data"
    }
   ],
   "source": [
    "plt.plot(df.resample('Y').mean()['close'])"
   ]
  },
  {
   "cell_type": "code",
   "execution_count": 13,
   "metadata": {},
   "outputs": [
    {
     "data": {
      "text/plain": [
       "(array([1.553e+03, 9.760e+02, 3.940e+02, 2.650e+02, 1.810e+02, 1.540e+02,\n",
       "        1.410e+02, 1.080e+02, 9.300e+01, 6.800e+01, 8.400e+01, 6.400e+01,\n",
       "        7.500e+01, 6.800e+01, 5.600e+01, 6.100e+01, 4.900e+01, 6.200e+01,\n",
       "        4.400e+01, 3.800e+01, 3.000e+01, 2.800e+01, 2.200e+01, 1.900e+01,\n",
       "        2.400e+01, 2.000e+01, 2.500e+01, 1.400e+01, 1.000e+01, 1.700e+01,\n",
       "        9.000e+00, 8.000e+00, 7.000e+00, 1.300e+01, 1.500e+01, 1.100e+01,\n",
       "        9.000e+00, 7.000e+00, 1.200e+01, 1.300e+01, 9.000e+00, 1.100e+01,\n",
       "        5.000e+00, 6.000e+00, 4.000e+00, 4.000e+00, 4.000e+00, 2.000e+00,\n",
       "        4.000e+00, 5.000e+00, 5.000e+00, 3.000e+00, 3.000e+00, 4.000e+00,\n",
       "        5.000e+00, 3.000e+00, 3.000e+00, 3.000e+00, 3.000e+00, 3.000e+00,\n",
       "        2.000e+00, 1.000e+00, 4.000e+00, 6.000e+00, 1.000e+00, 3.000e+00,\n",
       "        7.000e+00, 0.000e+00, 3.000e+00, 2.000e+00, 1.000e+00, 1.000e+00,\n",
       "        2.000e+00, 2.000e+00, 3.000e+00]),\n",
       " array([1.0000000e+00, 2.8337200e+04, 5.6673400e+04, 8.5009600e+04,\n",
       "        1.1334580e+05, 1.4168200e+05, 1.7001820e+05, 1.9835440e+05,\n",
       "        2.2669060e+05, 2.5502680e+05, 2.8336300e+05, 3.1169920e+05,\n",
       "        3.4003540e+05, 3.6837160e+05, 3.9670780e+05, 4.2504400e+05,\n",
       "        4.5338020e+05, 4.8171640e+05, 5.1005260e+05, 5.3838880e+05,\n",
       "        5.6672500e+05, 5.9506120e+05, 6.2339740e+05, 6.5173360e+05,\n",
       "        6.8006980e+05, 7.0840600e+05, 7.3674220e+05, 7.6507840e+05,\n",
       "        7.9341460e+05, 8.2175080e+05, 8.5008700e+05, 8.7842320e+05,\n",
       "        9.0675940e+05, 9.3509560e+05, 9.6343180e+05, 9.9176800e+05,\n",
       "        1.0201042e+06, 1.0484404e+06, 1.0767766e+06, 1.1051128e+06,\n",
       "        1.1334490e+06, 1.1617852e+06, 1.1901214e+06, 1.2184576e+06,\n",
       "        1.2467938e+06, 1.2751300e+06, 1.3034662e+06, 1.3318024e+06,\n",
       "        1.3601386e+06, 1.3884748e+06, 1.4168110e+06, 1.4451472e+06,\n",
       "        1.4734834e+06, 1.5018196e+06, 1.5301558e+06, 1.5584920e+06,\n",
       "        1.5868282e+06, 1.6151644e+06, 1.6435006e+06, 1.6718368e+06,\n",
       "        1.7001730e+06, 1.7285092e+06, 1.7568454e+06, 1.7851816e+06,\n",
       "        1.8135178e+06, 1.8418540e+06, 1.8701902e+06, 1.8985264e+06,\n",
       "        1.9268626e+06, 1.9551988e+06, 1.9835350e+06, 2.0118712e+06,\n",
       "        2.0402074e+06, 2.0685436e+06, 2.0968798e+06, 2.1252160e+06]),\n",
       " <a list of 75 Patch objects>)"
      ]
     },
     "execution_count": 13,
     "metadata": {},
     "output_type": "execute_result"
    },
    {
     "data": {
      "image/png": "[encoded data removed]",
      "text/plain": [
       "<Figure size 432x288 with 1 Axes>"
      ]
     },
     "metadata": {
      "needs_background": "light"
     },
     "output_type": "display_data"
    }
   ],
   "source": [
    "plt.hist(df.loc[df['volume'] < df['volume'].mean() + 3 * df['volume'].std(), 'volume'], bins=75)"
   ]
  },
  {
   "cell_type": "markdown",
   "metadata": {},
   "source": [
    "Пропусков нет, данные такого типа мне знакомы, особо не смотрю что там, сосредоточюсь на feature engineering."
   ]
  },
  {
   "cell_type": "markdown",
   "metadata": {},
   "source": [
    "### Task_3:"
   ]
  },
  {
   "cell_type": "markdown",
   "metadata": {},
   "source": [
    "3.\tсделать feature engineering"
   ]
  },
  {
   "cell_type": "markdown",
   "metadata": {},
   "source": [
    "##### TODO: нагенерить признаков из даты."
   ]
  },
  {
   "cell_type": "code",
   "execution_count": 14,
   "metadata": {},
   "outputs": [
    {
     "data": {
      "text/html": [
       "<div>\n",
       "<style scoped>\n",
       "    .dataframe tbody tr th:only-of-type {\n",
       "        vertical-align: middle;\n",
       "    }\n",
       "\n",
       "    .dataframe tbody tr th {\n",
       "        vertical-align: top;\n",
       "    }\n",
       "\n",
       "    .dataframe thead th {\n",
       "        text-align: right;\n",
       "    }\n",
       "</style>\n",
       "<table border=\"1\" class=\"dataframe\">\n",
       "  <thead>\n",
       "    <tr style=\"text-align: right;\">\n",
       "      <th></th>\n",
       "      <th>close</th>\n",
       "      <th>open</th>\n",
       "      <th>high</th>\n",
       "      <th>low</th>\n",
       "      <th>volume</th>\n",
       "    </tr>\n",
       "    <tr>\n",
       "      <th>date</th>\n",
       "      <th></th>\n",
       "      <th></th>\n",
       "      <th></th>\n",
       "      <th></th>\n",
       "      <th></th>\n",
       "    </tr>\n",
       "  </thead>\n",
       "  <tbody>\n",
       "    <tr>\n",
       "      <th>1999-03-22</th>\n",
       "      <td>1.64</td>\n",
       "      <td>1.64</td>\n",
       "      <td>1.64</td>\n",
       "      <td>1.64</td>\n",
       "      <td>500</td>\n",
       "    </tr>\n",
       "    <tr>\n",
       "      <th>1999-08-11</th>\n",
       "      <td>4.00</td>\n",
       "      <td>4.00</td>\n",
       "      <td>4.00</td>\n",
       "      <td>4.00</td>\n",
       "      <td>500</td>\n",
       "    </tr>\n",
       "    <tr>\n",
       "      <th>1999-08-26</th>\n",
       "      <td>2.30</td>\n",
       "      <td>2.30</td>\n",
       "      <td>2.30</td>\n",
       "      <td>2.30</td>\n",
       "      <td>13250</td>\n",
       "    </tr>\n",
       "  </tbody>\n",
       "</table>\n",
       "</div>"
      ],
      "text/plain": [
       "            close  open  high   low  volume\n",
       "date                                       \n",
       "1999-03-22   1.64  1.64  1.64  1.64     500\n",
       "1999-08-11   4.00  4.00  4.00  4.00     500\n",
       "1999-08-26   2.30  2.30  2.30  2.30   13250"
      ]
     },
     "execution_count": 14,
     "metadata": {},
     "output_type": "execute_result"
    }
   ],
   "source": [
    "df.head(3)"
   ]
  },
  {
   "cell_type": "markdown",
   "metadata": {},
   "source": [
    "Нагенею некоторых признаков:"
   ]
  },
  {
   "cell_type": "code",
   "execution_count": 15,
   "metadata": {},
   "outputs": [],
   "source": [
    "df['range'] = df['high'] - df['low']\n",
    "df['movement'] = df['close'] - df['open']\n",
    "\n",
    "df['MA_25'] = df['close'].rolling(25).mean()\n",
    "df['MA_125'] = df['close'].rolling(125).mean()\n",
    "\n",
    "df['close-MA_25'] = df['close'] - df['MA_25']\n",
    "df['close-MA_125'] = df['close'] - df['MA_125']\n",
    "\n",
    "df['MA25/MA125'] = (df['MA_25'] - df['MA_125']) / df['MA_125']\n",
    "\n",
    "df['volume_MA_25'] = df['volume'].rolling(25).mean()\n",
    "df['volume_MA_125'] = df['volume'].rolling(125).mean()\n",
    "\n",
    "df['volume-MA_25'] = df['volume'] - df['volume_MA_25']\n",
    "df['volume-MA_125'] = df['volume'] - df['volume_MA_125']\n",
    "\n",
    "df['volume_MA25/volume_MA125'] = (df['volume_MA_25'] - df['volume_MA_125']) / df['volume_MA_125']"
   ]
  },
  {
   "cell_type": "code",
   "execution_count": 16,
   "metadata": {},
   "outputs": [
    {
     "data": {
      "text/html": [
       "<div>\n",
       "<style scoped>\n",
       "    .dataframe tbody tr th:only-of-type {\n",
       "        vertical-align: middle;\n",
       "    }\n",
       "\n",
       "    .dataframe tbody tr th {\n",
       "        vertical-align: top;\n",
       "    }\n",
       "\n",
       "    .dataframe thead th {\n",
       "        text-align: right;\n",
       "    }\n",
       "</style>\n",
       "<table border=\"1\" class=\"dataframe\">\n",
       "  <thead>\n",
       "    <tr style=\"text-align: right;\">\n",
       "      <th></th>\n",
       "      <th>close</th>\n",
       "      <th>open</th>\n",
       "      <th>high</th>\n",
       "      <th>low</th>\n",
       "      <th>volume</th>\n",
       "      <th>range</th>\n",
       "      <th>movement</th>\n",
       "      <th>MA_25</th>\n",
       "      <th>MA_125</th>\n",
       "      <th>close-MA_25</th>\n",
       "      <th>close-MA_125</th>\n",
       "      <th>MA25/MA125</th>\n",
       "      <th>volume_MA_25</th>\n",
       "      <th>volume_MA_125</th>\n",
       "      <th>volume-MA_25</th>\n",
       "      <th>volume-MA_125</th>\n",
       "      <th>volume_MA25/volume_MA125</th>\n",
       "    </tr>\n",
       "    <tr>\n",
       "      <th>date</th>\n",
       "      <th></th>\n",
       "      <th></th>\n",
       "      <th></th>\n",
       "      <th></th>\n",
       "      <th></th>\n",
       "      <th></th>\n",
       "      <th></th>\n",
       "      <th></th>\n",
       "      <th></th>\n",
       "      <th></th>\n",
       "      <th></th>\n",
       "      <th></th>\n",
       "      <th></th>\n",
       "      <th></th>\n",
       "      <th></th>\n",
       "      <th></th>\n",
       "      <th></th>\n",
       "    </tr>\n",
       "  </thead>\n",
       "  <tbody>\n",
       "    <tr>\n",
       "      <th>2000-07-24</th>\n",
       "      <td>4.70</td>\n",
       "      <td>4.70</td>\n",
       "      <td>4.70</td>\n",
       "      <td>4.70</td>\n",
       "      <td>15800</td>\n",
       "      <td>0.00</td>\n",
       "      <td>0.00</td>\n",
       "      <td>4.7204</td>\n",
       "      <td>4.75424</td>\n",
       "      <td>-0.0204</td>\n",
       "      <td>-0.05424</td>\n",
       "      <td>-0.007118</td>\n",
       "      <td>14676.20</td>\n",
       "      <td>25773.776</td>\n",
       "      <td>1123.80</td>\n",
       "      <td>-9973.776</td>\n",
       "      <td>-0.430576</td>\n",
       "    </tr>\n",
       "    <tr>\n",
       "      <th>2000-07-27</th>\n",
       "      <td>4.66</td>\n",
       "      <td>4.65</td>\n",
       "      <td>4.67</td>\n",
       "      <td>4.65</td>\n",
       "      <td>1800</td>\n",
       "      <td>0.02</td>\n",
       "      <td>0.01</td>\n",
       "      <td>4.7068</td>\n",
       "      <td>4.75952</td>\n",
       "      <td>-0.0468</td>\n",
       "      <td>-0.09952</td>\n",
       "      <td>-0.011077</td>\n",
       "      <td>12588.20</td>\n",
       "      <td>25784.176</td>\n",
       "      <td>-10788.20</td>\n",
       "      <td>-23984.176</td>\n",
       "      <td>-0.511786</td>\n",
       "    </tr>\n",
       "    <tr>\n",
       "      <th>2000-07-31</th>\n",
       "      <td>4.70</td>\n",
       "      <td>4.70</td>\n",
       "      <td>4.70</td>\n",
       "      <td>4.70</td>\n",
       "      <td>28000</td>\n",
       "      <td>0.00</td>\n",
       "      <td>0.00</td>\n",
       "      <td>4.6820</td>\n",
       "      <td>4.77872</td>\n",
       "      <td>0.0180</td>\n",
       "      <td>-0.07872</td>\n",
       "      <td>-0.020240</td>\n",
       "      <td>13708.16</td>\n",
       "      <td>25902.176</td>\n",
       "      <td>14291.84</td>\n",
       "      <td>2097.824</td>\n",
       "      <td>-0.470772</td>\n",
       "    </tr>\n",
       "    <tr>\n",
       "      <th>2000-08-01</th>\n",
       "      <td>4.90</td>\n",
       "      <td>5.40</td>\n",
       "      <td>5.40</td>\n",
       "      <td>4.60</td>\n",
       "      <td>40300</td>\n",
       "      <td>0.80</td>\n",
       "      <td>-0.50</td>\n",
       "      <td>4.6640</td>\n",
       "      <td>4.81784</td>\n",
       "      <td>0.2360</td>\n",
       "      <td>0.08216</td>\n",
       "      <td>-0.031931</td>\n",
       "      <td>14277.60</td>\n",
       "      <td>26224.560</td>\n",
       "      <td>26022.40</td>\n",
       "      <td>14075.440</td>\n",
       "      <td>-0.455564</td>\n",
       "    </tr>\n",
       "    <tr>\n",
       "      <th>2000-08-02</th>\n",
       "      <td>5.00</td>\n",
       "      <td>4.90</td>\n",
       "      <td>5.00</td>\n",
       "      <td>4.90</td>\n",
       "      <td>386800</td>\n",
       "      <td>0.10</td>\n",
       "      <td>0.10</td>\n",
       "      <td>4.6656</td>\n",
       "      <td>4.84744</td>\n",
       "      <td>0.3344</td>\n",
       "      <td>0.15256</td>\n",
       "      <td>-0.037513</td>\n",
       "      <td>29742.36</td>\n",
       "      <td>29310.960</td>\n",
       "      <td>357057.64</td>\n",
       "      <td>357489.040</td>\n",
       "      <td>0.014718</td>\n",
       "    </tr>\n",
       "  </tbody>\n",
       "</table>\n",
       "</div>"
      ],
      "text/plain": [
       "            close  open  high   low  volume  range  movement   MA_25   MA_125  \\\n",
       "date                                                                            \n",
       "2000-07-24   4.70  4.70  4.70  4.70   15800   0.00      0.00  4.7204  4.75424   \n",
       "2000-07-27   4.66  4.65  4.67  4.65    1800   0.02      0.01  4.7068  4.75952   \n",
       "2000-07-31   4.70  4.70  4.70  4.70   28000   0.00      0.00  4.6820  4.77872   \n",
       "2000-08-01   4.90  5.40  5.40  4.60   40300   0.80     -0.50  4.6640  4.81784   \n",
       "2000-08-02   5.00  4.90  5.00  4.90  386800   0.10      0.10  4.6656  4.84744   \n",
       "\n",
       "            close-MA_25  close-MA_125  MA25/MA125  volume_MA_25  \\\n",
       "date                                                              \n",
       "2000-07-24      -0.0204      -0.05424   -0.007118      14676.20   \n",
       "2000-07-27      -0.0468      -0.09952   -0.011077      12588.20   \n",
       "2000-07-31       0.0180      -0.07872   -0.020240      13708.16   \n",
       "2000-08-01       0.2360       0.08216   -0.031931      14277.60   \n",
       "2000-08-02       0.3344       0.15256   -0.037513      29742.36   \n",
       "\n",
       "            volume_MA_125  volume-MA_25  volume-MA_125  \\\n",
       "date                                                     \n",
       "2000-07-24      25773.776       1123.80      -9973.776   \n",
       "2000-07-27      25784.176     -10788.20     -23984.176   \n",
       "2000-07-31      25902.176      14291.84       2097.824   \n",
       "2000-08-01      26224.560      26022.40      14075.440   \n",
       "2000-08-02      29310.960     357057.64     357489.040   \n",
       "\n",
       "            volume_MA25/volume_MA125  \n",
       "date                                  \n",
       "2000-07-24                 -0.430576  \n",
       "2000-07-27                 -0.511786  \n",
       "2000-07-31                 -0.470772  \n",
       "2000-08-01                 -0.455564  \n",
       "2000-08-02                  0.014718  "
      ]
     },
     "execution_count": 16,
     "metadata": {},
     "output_type": "execute_result"
    }
   ],
   "source": [
    "df = df[125:]\n",
    "df.head(5)"
   ]
  },
  {
   "cell_type": "markdown",
   "metadata": {},
   "source": [
    "Сделаем признаками приращения разной длины для всех признаков:"
   ]
  },
  {
   "cell_type": "code",
   "execution_count": 17,
   "metadata": {},
   "outputs": [],
   "source": [
    "columns = df.columns\n",
    "shifts_count = 3\n",
    "\n",
    "for column in columns:\n",
    "    for shift in range(1, shifts_count):\n",
    "        df[f'{column}-{shift}'] = df[column].shift(shift) - df[column]\n",
    "\n",
    "df = df[shifts_count:]"
   ]
  },
  {
   "cell_type": "code",
   "execution_count": 18,
   "metadata": {},
   "outputs": [
    {
     "data": {
      "text/plain": [
       "(4927, 51)"
      ]
     },
     "execution_count": 18,
     "metadata": {},
     "output_type": "execute_result"
    }
   ],
   "source": [
    "df.shape"
   ]
  },
  {
   "cell_type": "code",
   "execution_count": 19,
   "metadata": {},
   "outputs": [
    {
     "data": {
      "text/html": [
       "<div>\n",
       "<style scoped>\n",
       "    .dataframe tbody tr th:only-of-type {\n",
       "        vertical-align: middle;\n",
       "    }\n",
       "\n",
       "    .dataframe tbody tr th {\n",
       "        vertical-align: top;\n",
       "    }\n",
       "\n",
       "    .dataframe thead th {\n",
       "        text-align: right;\n",
       "    }\n",
       "</style>\n",
       "<table border=\"1\" class=\"dataframe\">\n",
       "  <thead>\n",
       "    <tr style=\"text-align: right;\">\n",
       "      <th></th>\n",
       "      <th>close</th>\n",
       "      <th>open</th>\n",
       "      <th>high</th>\n",
       "      <th>low</th>\n",
       "      <th>volume</th>\n",
       "      <th>range</th>\n",
       "      <th>movement</th>\n",
       "      <th>MA_25</th>\n",
       "      <th>MA_125</th>\n",
       "      <th>close-MA_25</th>\n",
       "      <th>...</th>\n",
       "      <th>volume_MA_25-1</th>\n",
       "      <th>volume_MA_25-2</th>\n",
       "      <th>volume_MA_125-1</th>\n",
       "      <th>volume_MA_125-2</th>\n",
       "      <th>volume-MA_25-1</th>\n",
       "      <th>volume-MA_25-2</th>\n",
       "      <th>volume-MA_125-1</th>\n",
       "      <th>volume-MA_125-2</th>\n",
       "      <th>volume_MA25/volume_MA125-1</th>\n",
       "      <th>volume_MA25/volume_MA125-2</th>\n",
       "    </tr>\n",
       "    <tr>\n",
       "      <th>date</th>\n",
       "      <th></th>\n",
       "      <th></th>\n",
       "      <th></th>\n",
       "      <th></th>\n",
       "      <th></th>\n",
       "      <th></th>\n",
       "      <th></th>\n",
       "      <th></th>\n",
       "      <th></th>\n",
       "      <th></th>\n",
       "      <th></th>\n",
       "      <th></th>\n",
       "      <th></th>\n",
       "      <th></th>\n",
       "      <th></th>\n",
       "      <th></th>\n",
       "      <th></th>\n",
       "      <th></th>\n",
       "      <th></th>\n",
       "      <th></th>\n",
       "      <th></th>\n",
       "    </tr>\n",
       "  </thead>\n",
       "  <tbody>\n",
       "    <tr>\n",
       "      <th>2000-08-01</th>\n",
       "      <td>4.90</td>\n",
       "      <td>5.4</td>\n",
       "      <td>5.40</td>\n",
       "      <td>4.6</td>\n",
       "      <td>40300</td>\n",
       "      <td>0.80</td>\n",
       "      <td>-0.50</td>\n",
       "      <td>4.6640</td>\n",
       "      <td>4.81784</td>\n",
       "      <td>0.2360</td>\n",
       "      <td>...</td>\n",
       "      <td>-569.44</td>\n",
       "      <td>-1689.40</td>\n",
       "      <td>-322.384</td>\n",
       "      <td>-440.384</td>\n",
       "      <td>-11730.56</td>\n",
       "      <td>-36810.60</td>\n",
       "      <td>-11977.616</td>\n",
       "      <td>-38059.616</td>\n",
       "      <td>-0.015208</td>\n",
       "      <td>-0.056222</td>\n",
       "    </tr>\n",
       "    <tr>\n",
       "      <th>2000-08-02</th>\n",
       "      <td>5.00</td>\n",
       "      <td>4.9</td>\n",
       "      <td>5.00</td>\n",
       "      <td>4.9</td>\n",
       "      <td>386800</td>\n",
       "      <td>0.10</td>\n",
       "      <td>0.10</td>\n",
       "      <td>4.6656</td>\n",
       "      <td>4.84744</td>\n",
       "      <td>0.3344</td>\n",
       "      <td>...</td>\n",
       "      <td>-15464.76</td>\n",
       "      <td>-16034.20</td>\n",
       "      <td>-3086.400</td>\n",
       "      <td>-3408.784</td>\n",
       "      <td>-331035.24</td>\n",
       "      <td>-342765.80</td>\n",
       "      <td>-343413.600</td>\n",
       "      <td>-355391.216</td>\n",
       "      <td>-0.470282</td>\n",
       "      <td>-0.485490</td>\n",
       "    </tr>\n",
       "    <tr>\n",
       "      <th>2000-08-03</th>\n",
       "      <td>5.01</td>\n",
       "      <td>5.0</td>\n",
       "      <td>5.05</td>\n",
       "      <td>5.0</td>\n",
       "      <td>102902</td>\n",
       "      <td>0.05</td>\n",
       "      <td>0.01</td>\n",
       "      <td>4.6708</td>\n",
       "      <td>4.87632</td>\n",
       "      <td>0.3392</td>\n",
       "      <td>...</td>\n",
       "      <td>-3892.48</td>\n",
       "      <td>-19357.24</td>\n",
       "      <td>-817.216</td>\n",
       "      <td>-3903.616</td>\n",
       "      <td>287790.48</td>\n",
       "      <td>-43244.76</td>\n",
       "      <td>284715.216</td>\n",
       "      <td>-58698.384</td>\n",
       "      <td>-0.101673</td>\n",
       "      <td>-0.571955</td>\n",
       "    </tr>\n",
       "    <tr>\n",
       "      <th>2000-08-04</th>\n",
       "      <td>5.10</td>\n",
       "      <td>5.3</td>\n",
       "      <td>5.30</td>\n",
       "      <td>5.1</td>\n",
       "      <td>5311</td>\n",
       "      <td>0.20</td>\n",
       "      <td>-0.20</td>\n",
       "      <td>4.7008</td>\n",
       "      <td>4.90520</td>\n",
       "      <td>0.3992</td>\n",
       "      <td>...</td>\n",
       "      <td>753.56</td>\n",
       "      <td>-3138.92</td>\n",
       "      <td>53.512</td>\n",
       "      <td>-763.704</td>\n",
       "      <td>96837.44</td>\n",
       "      <td>384627.92</td>\n",
       "      <td>97537.488</td>\n",
       "      <td>382252.704</td>\n",
       "      <td>0.023070</td>\n",
       "      <td>-0.078604</td>\n",
       "    </tr>\n",
       "    <tr>\n",
       "      <th>2000-08-09</th>\n",
       "      <td>5.19</td>\n",
       "      <td>5.0</td>\n",
       "      <td>5.19</td>\n",
       "      <td>5.0</td>\n",
       "      <td>4699</td>\n",
       "      <td>0.19</td>\n",
       "      <td>0.19</td>\n",
       "      <td>4.7284</td>\n",
       "      <td>4.93456</td>\n",
       "      <td>0.4616</td>\n",
       "      <td>...</td>\n",
       "      <td>796.12</td>\n",
       "      <td>1549.68</td>\n",
       "      <td>-15.992</td>\n",
       "      <td>37.520</td>\n",
       "      <td>-184.12</td>\n",
       "      <td>96653.32</td>\n",
       "      <td>627.992</td>\n",
       "      <td>98165.480</td>\n",
       "      <td>0.027038</td>\n",
       "      <td>0.050108</td>\n",
       "    </tr>\n",
       "  </tbody>\n",
       "</table>\n",
       "<p>5 rows × 51 columns</p>\n",
       "</div>"
      ],
      "text/plain": [
       "            close  open  high  low  volume  range  movement   MA_25   MA_125  \\\n",
       "date                                                                           \n",
       "2000-08-01   4.90   5.4  5.40  4.6   40300   0.80     -0.50  4.6640  4.81784   \n",
       "2000-08-02   5.00   4.9  5.00  4.9  386800   0.10      0.10  4.6656  4.84744   \n",
       "2000-08-03   5.01   5.0  5.05  5.0  102902   0.05      0.01  4.6708  4.87632   \n",
       "2000-08-04   5.10   5.3  5.30  5.1    5311   0.20     -0.20  4.7008  4.90520   \n",
       "2000-08-09   5.19   5.0  5.19  5.0    4699   0.19      0.19  4.7284  4.93456   \n",
       "\n",
       "            close-MA_25  ...  volume_MA_25-1  volume_MA_25-2  volume_MA_125-1  \\\n",
       "date                     ...                                                    \n",
       "2000-08-01       0.2360  ...         -569.44        -1689.40         -322.384   \n",
       "2000-08-02       0.3344  ...       -15464.76       -16034.20        -3086.400   \n",
       "2000-08-03       0.3392  ...        -3892.48       -19357.24         -817.216   \n",
       "2000-08-04       0.3992  ...          753.56        -3138.92           53.512   \n",
       "2000-08-09       0.4616  ...          796.12         1549.68          -15.992   \n",
       "\n",
       "            volume_MA_125-2  volume-MA_25-1  volume-MA_25-2  volume-MA_125-1  \\\n",
       "date                                                                           \n",
       "2000-08-01         -440.384       -11730.56       -36810.60       -11977.616   \n",
       "2000-08-02        -3408.784      -331035.24      -342765.80      -343413.600   \n",
       "2000-08-03        -3903.616       287790.48       -43244.76       284715.216   \n",
       "2000-08-04         -763.704        96837.44       384627.92        97537.488   \n",
       "2000-08-09           37.520         -184.12        96653.32          627.992   \n",
       "\n",
       "            volume-MA_125-2  volume_MA25/volume_MA125-1  \\\n",
       "date                                                      \n",
       "2000-08-01       -38059.616                   -0.015208   \n",
       "2000-08-02      -355391.216                   -0.470282   \n",
       "2000-08-03       -58698.384                   -0.101673   \n",
       "2000-08-04       382252.704                    0.023070   \n",
       "2000-08-09        98165.480                    0.027038   \n",
       "\n",
       "            volume_MA25/volume_MA125-2  \n",
       "date                                    \n",
       "2000-08-01                   -0.056222  \n",
       "2000-08-02                   -0.485490  \n",
       "2000-08-03                   -0.571955  \n",
       "2000-08-04                   -0.078604  \n",
       "2000-08-09                    0.050108  \n",
       "\n",
       "[5 rows x 51 columns]"
      ]
     },
     "execution_count": 19,
     "metadata": {},
     "output_type": "execute_result"
    }
   ],
   "source": [
    "\n",
    "df.head(5)"
   ]
  },
  {
   "cell_type": "code",
   "execution_count": 20,
   "metadata": {},
   "outputs": [],
   "source": [
    "columns_to_drop =\\\n",
    "[\n",
    "    'open','high', 'low', 'volume',\n",
    "    'MA_25', 'MA_125',\n",
    "    'volume_MA_25', 'volume_MA_125'\n",
    "]\n",
    "\n",
    "df.drop(columns=columns_to_drop, inplace=True)"
   ]
  },
  {
   "cell_type": "code",
   "execution_count": 21,
   "metadata": {},
   "outputs": [
    {
     "data": {
      "text/plain": [
       "0"
      ]
     },
     "execution_count": 21,
     "metadata": {},
     "output_type": "execute_result"
    }
   ],
   "source": [
    "df.isna().sum().sum()"
   ]
  },
  {
   "cell_type": "code",
   "execution_count": 22,
   "metadata": {},
   "outputs": [
    {
     "data": {
      "text/html": [
       "<div>\n",
       "<style scoped>\n",
       "    .dataframe tbody tr th:only-of-type {\n",
       "        vertical-align: middle;\n",
       "    }\n",
       "\n",
       "    .dataframe tbody tr th {\n",
       "        vertical-align: top;\n",
       "    }\n",
       "\n",
       "    .dataframe thead th {\n",
       "        text-align: right;\n",
       "    }\n",
       "</style>\n",
       "<table border=\"1\" class=\"dataframe\">\n",
       "  <thead>\n",
       "    <tr style=\"text-align: right;\">\n",
       "      <th></th>\n",
       "      <th>range</th>\n",
       "      <th>movement</th>\n",
       "      <th>close-MA_25</th>\n",
       "      <th>close-MA_125</th>\n",
       "      <th>MA25/MA125</th>\n",
       "      <th>volume-MA_25</th>\n",
       "      <th>volume-MA_125</th>\n",
       "      <th>volume_MA25/volume_MA125</th>\n",
       "      <th>close-1</th>\n",
       "      <th>close-2</th>\n",
       "      <th>...</th>\n",
       "      <th>volume_MA_25-2</th>\n",
       "      <th>volume_MA_125-1</th>\n",
       "      <th>volume_MA_125-2</th>\n",
       "      <th>volume-MA_25-1</th>\n",
       "      <th>volume-MA_25-2</th>\n",
       "      <th>volume-MA_125-1</th>\n",
       "      <th>volume-MA_125-2</th>\n",
       "      <th>volume_MA25/volume_MA125-1</th>\n",
       "      <th>volume_MA25/volume_MA125-2</th>\n",
       "      <th>target</th>\n",
       "    </tr>\n",
       "    <tr>\n",
       "      <th>date</th>\n",
       "      <th></th>\n",
       "      <th></th>\n",
       "      <th></th>\n",
       "      <th></th>\n",
       "      <th></th>\n",
       "      <th></th>\n",
       "      <th></th>\n",
       "      <th></th>\n",
       "      <th></th>\n",
       "      <th></th>\n",
       "      <th></th>\n",
       "      <th></th>\n",
       "      <th></th>\n",
       "      <th></th>\n",
       "      <th></th>\n",
       "      <th></th>\n",
       "      <th></th>\n",
       "      <th></th>\n",
       "      <th></th>\n",
       "      <th></th>\n",
       "      <th></th>\n",
       "    </tr>\n",
       "  </thead>\n",
       "  <tbody>\n",
       "    <tr>\n",
       "      <th>2000-08-02</th>\n",
       "      <td>0.1</td>\n",
       "      <td>0.1</td>\n",
       "      <td>0.3344</td>\n",
       "      <td>0.15256</td>\n",
       "      <td>-0.037513</td>\n",
       "      <td>357057.64</td>\n",
       "      <td>357489.04</td>\n",
       "      <td>0.014718</td>\n",
       "      <td>-0.1</td>\n",
       "      <td>-0.3</td>\n",
       "      <td>...</td>\n",
       "      <td>-16034.2</td>\n",
       "      <td>-3086.4</td>\n",
       "      <td>-3408.784</td>\n",
       "      <td>-331035.24</td>\n",
       "      <td>-342765.8</td>\n",
       "      <td>-343413.6</td>\n",
       "      <td>-355391.216</td>\n",
       "      <td>-0.470282</td>\n",
       "      <td>-0.48549</td>\n",
       "      <td>1.0</td>\n",
       "    </tr>\n",
       "  </tbody>\n",
       "</table>\n",
       "<p>1 rows × 43 columns</p>\n",
       "</div>"
      ],
      "text/plain": [
       "            range  movement  close-MA_25  close-MA_125  MA25/MA125  \\\n",
       "date                                                                 \n",
       "2000-08-02    0.1       0.1       0.3344       0.15256   -0.037513   \n",
       "\n",
       "            volume-MA_25  volume-MA_125  volume_MA25/volume_MA125  close-1  \\\n",
       "date                                                                         \n",
       "2000-08-02     357057.64      357489.04                  0.014718     -0.1   \n",
       "\n",
       "            close-2  ...  volume_MA_25-2  volume_MA_125-1  volume_MA_125-2  \\\n",
       "date                 ...                                                     \n",
       "2000-08-02     -0.3  ...        -16034.2          -3086.4        -3408.784   \n",
       "\n",
       "            volume-MA_25-1  volume-MA_25-2  volume-MA_125-1  volume-MA_125-2  \\\n",
       "date                                                                           \n",
       "2000-08-02      -331035.24       -342765.8        -343413.6      -355391.216   \n",
       "\n",
       "            volume_MA25/volume_MA125-1  volume_MA25/volume_MA125-2  target  \n",
       "date                                                                        \n",
       "2000-08-02                   -0.470282                    -0.48549     1.0  \n",
       "\n",
       "[1 rows x 43 columns]"
      ]
     },
     "execution_count": 22,
     "metadata": {},
     "output_type": "execute_result"
    }
   ],
   "source": [
    "target_length = 10\n",
    "\n",
    "df['target'] = df['close'].shift(-target_length) - df['close']\n",
    "\n",
    "# Перед переводом таргета в бирарный формат направлений приращений запомню сами приращения.\n",
    "movements = df['target']\n",
    "\n",
    "df.loc[df['target'] < 0, 'target'] = 0\n",
    "df.loc[df['target'] > 0, 'target'] = 1\n",
    "\n",
    "df = df[:-target_length]\n",
    "df.drop(columns=['close'], inplace=True)\n",
    "df = df[1:]\n",
    "\n",
    "movements = movements[:-target_length][1:]\n",
    "\n",
    "df.head(1)"
   ]
  },
  {
   "cell_type": "markdown",
   "metadata": {},
   "source": [
    "### Task_4:"
   ]
  },
  {
   "cell_type": "markdown",
   "metadata": {},
   "source": [
    "4.\tобучить любой классификатор (какой вам нравится)."
   ]
  },
  {
   "cell_type": "code",
   "execution_count": 23,
   "metadata": {},
   "outputs": [
    {
     "data": {
      "text/plain": [
       "(4916, 43)"
      ]
     },
     "execution_count": 23,
     "metadata": {},
     "output_type": "execute_result"
    }
   ],
   "source": [
    "df.shape"
   ]
  },
  {
   "cell_type": "markdown",
   "metadata": {},
   "source": [
    "Разделяю на train, test."
   ]
  },
  {
   "cell_type": "code",
   "execution_count": 24,
   "metadata": {},
   "outputs": [],
   "source": [
    "test_percent = 0.35\n",
    "\n",
    "test_splitter = int(df.shape[0] * (1 - test_percent))\n",
    "\n",
    "X_train = df[:test_splitter].copy()\n",
    "y_train = df['target'][:test_splitter]\n",
    "\n",
    "X_test = df[test_splitter:].copy()\n",
    "y_test = df['target'][test_splitter:]\n",
    "\n",
    "movements = movements[test_splitter:]\n",
    "\n",
    "try:\n",
    "    X_train.drop(columns='target', inplace=True)\n",
    "    X_test.drop(columns='target', inplace=True)\n",
    "except:\n",
    "    pass"
   ]
  },
  {
   "cell_type": "markdown",
   "metadata": {},
   "source": [
    "Обучение модели."
   ]
  },
  {
   "cell_type": "code",
   "execution_count": 25,
   "metadata": {},
   "outputs": [],
   "source": [
    "models = ['XGBoosting', 'forest']\n",
    "model = models[0]\n",
    "\n",
    "if model == 'XGBoosting':\n",
    "    model = XGBClassifier(learning_rate=0.1,\n",
    "                          max_depth=1,\n",
    "                          n_estimators=250)\n",
    "    model = model.fit(X_train, y_train)\n",
    "\n",
    "elif model == 'forest':\n",
    "    model = RandomForestClassifier(max_features=10, min_samples_leaf=125,\n",
    "                          max_depth=10,\n",
    "                          n_estimators=250)\n",
    "    model.fit(X_train, y_train)"
   ]
  },
  {
   "cell_type": "code",
   "execution_count": 26,
   "metadata": {},
   "outputs": [
    {
     "data": {
      "text/plain": [
       "array([0.07632137, 0.        , 0.03008287, 0.06487811, 0.06145738,\n",
       "       0.03271784, 0.02891656, 0.0444884 , 0.04828013, 0.        ,\n",
       "       0.02669152, 0.        , 0.02512218, 0.04638097, 0.02446019,\n",
       "       0.        , 0.        , 0.        , 0.03703649, 0.02797762,\n",
       "       0.        , 0.        , 0.03342849, 0.05847977, 0.0638532 ,\n",
       "       0.03490969, 0.        , 0.03915522, 0.        , 0.        ,\n",
       "       0.04226219, 0.05119237, 0.        , 0.04180674, 0.        ,\n",
       "       0.03220234, 0.        , 0.        , 0.        , 0.        ,\n",
       "       0.02789826, 0.        ], dtype=float32)"
      ]
     },
     "execution_count": 26,
     "metadata": {},
     "output_type": "execute_result"
    }
   ],
   "source": [
    "model.feature_importances_"
   ]
  },
  {
   "cell_type": "markdown",
   "metadata": {},
   "source": [
    "Важность признаков."
   ]
  },
  {
   "cell_type": "code",
   "execution_count": 27,
   "metadata": {},
   "outputs": [
    {
     "data": {
      "text/plain": [
       "[('range', 0.07632137),\n",
       " ('close-MA_125', 0.064878106),\n",
       " ('MA_125-1', 0.063853204),\n",
       " ('MA25/MA125', 0.061457377),\n",
       " ('MA_25-2', 0.05847977),\n",
       " ('MA25/MA125-2', 0.051192373),\n",
       " ('close-1', 0.048280127),\n",
       " ('high-2', 0.04638097),\n",
       " ('volume_MA25/volume_MA125', 0.0444884),\n",
       " ('MA25/MA125-1', 0.04226219)]"
      ]
     },
     "execution_count": 27,
     "metadata": {},
     "output_type": "execute_result"
    }
   ],
   "source": [
    "features = list(zip(X_test.columns, model.feature_importances_))\n",
    "\n",
    "features.sort(key=lambda param: param[1], reverse=True)\n",
    "features = [(feature[0], feature[1]) for feature in features][:25]\n",
    "features[:10]"
   ]
  },
  {
   "cell_type": "markdown",
   "metadata": {},
   "source": [
    "Предикт и оценка результатов."
   ]
  },
  {
   "cell_type": "code",
   "execution_count": 28,
   "metadata": {},
   "outputs": [
    {
     "name": "stdout",
     "output_type": "stream",
     "text": [
      "порядок классов: [0. 1.]\n"
     ]
    },
    {
     "data": {
      "text/plain": [
       "(0.5019533202391534, 0.4980466797608466, 0.5151515151515151)"
      ]
     },
     "execution_count": 28,
     "metadata": {},
     "output_type": "execute_result"
    }
   ],
   "source": [
    "predict = model.predict(X_test)\n",
    "predicted_proba = model.predict_proba(X_test)\n",
    "\n",
    "print('порядок классов:', model.classes_)\n",
    "\n",
    "roc_auc_score(y_test, predicted_proba[:,1]), roc_auc_score(y_test, predicted_proba[:,0]), precision_score(y_test, predict)"
   ]
  },
  {
   "cell_type": "code",
   "execution_count": 29,
   "metadata": {},
   "outputs": [],
   "source": [
    "models_results = pd.DataFrame({'description': ['labeled_learning'],\n",
    "                              'roc_auc_negative_class': [roc_auc_score(y_test, predicted_proba[:,0])],\n",
    "                              'roc_auc_positive_class': [roc_auc_score(y_test, predicted_proba[:,1])],\n",
    "                              'precision_score': precision_score(y_test, predict)})"
   ]
  },
  {
   "cell_type": "code",
   "execution_count": 30,
   "metadata": {},
   "outputs": [
    {
     "name": "stdout",
     "output_type": "stream",
     "text": [
      "Доля успешных прогнозов: 0.509 \n",
      "Количество предиктов: 974\n"
     ]
    },
    {
     "data": {
      "text/plain": [
       "[<matplotlib.lines.Line2D at 0x1c230555780>]"
      ]
     },
     "execution_count": 30,
     "metadata": {},
     "output_type": "execute_result"
    },
    {
     "data": {
      "image/png": "[encoded data removed]",
      "text/plain": [
       "<Figure size 432x288 with 1 Axes>"
      ]
     },
     "metadata": {
      "needs_background": "light"
     },
     "output_type": "display_data"
    }
   ],
   "source": [
    "results = pd.DataFrame({'true': y_test, 'predict': predict, 'proba': predicted_proba[:, 0], 'movement': movements})\n",
    "results['true_predict'] = 0\n",
    "\n",
    "results.loc[results['true'] == results['predict'], 'true_predict'] = 1\n",
    "\n",
    "results.reset_index(inplace=True)\n",
    "\n",
    "# result - движение, которое получаем в сторону открытой позиции (в направлении предикта).\n",
    "results.loc[results['true_predict'] == 1, 'result'] = np.abs(results['movement'])\n",
    "results.loc[results['true_predict'] != 1, 'result'] = -np.abs(results['movement'])\n",
    "\n",
    "# Лимит вероятности, при котором (по любому из классов) используем предикт. В данной предметной области главное получить\n",
    "# высокую точность прогнозов, полнота не важна, получать предикт по каждому экземпляру тоже не обязательно.\n",
    "proba_limit = 0.585\n",
    "\n",
    "print('Доля успешных прогнозов:', round(results.loc[(results['proba'] > proba_limit) |\\\n",
    "                                             (results['proba'] < 1 - proba_limit)]['true_predict'].mean(), 3),\n",
    "      '\\nКоличество предиктов:', results.loc[(results['proba'] > proba_limit) |\\\n",
    "      (results['proba'] < 1 - proba_limit)]['true_predict'].count())\n",
    "\n",
    "# Отрисуем накопленное движение в сторону предикта.\n",
    "plt.plot(results.loc[(results['proba'] > proba_limit) | (results['proba'] < 1 - proba_limit), 'result'].expanding().sum())"
   ]
  },
  {
   "cell_type": "markdown",
   "metadata": {},
   "source": [
    "Качество по направлениям предикта."
   ]
  },
  {
   "cell_type": "code",
   "execution_count": 31,
   "metadata": {},
   "outputs": [
    {
     "data": {
      "text/plain": [
       "predict\n",
       "0.0    0.484627\n",
       "1.0    0.567010\n",
       "Name: true_predict, dtype: float64"
      ]
     },
     "execution_count": 31,
     "metadata": {},
     "output_type": "execute_result"
    }
   ],
   "source": [
    "results.loc[(results['proba'] > proba_limit) | (results['proba'] < 1 - proba_limit)].groupby('predict')['true_predict'].mean()"
   ]
  },
  {
   "cell_type": "markdown",
   "metadata": {},
   "source": [
    "Посмотрю как распределены величины вероятностей модели по объектам."
   ]
  },
  {
   "cell_type": "code",
   "execution_count": 32,
   "metadata": {},
   "outputs": [
    {
     "name": "stdout",
     "output_type": "stream",
     "text": [
      "0.9490261673927307 5.603069172784058e-24 329.4784413289028 2.848823297976071e-72\n"
     ]
    },
    {
     "data": {
      "image/png": "[encoded data removed]",
      "text/plain": [
       "<Figure size 432x288 with 1 Axes>"
      ]
     },
     "metadata": {
      "needs_background": "light"
     },
     "output_type": "display_data"
    }
   ],
   "source": [
    "from scipy.stats import shapiro\n",
    "from scipy import stats\n",
    "\n",
    "\n",
    "data = results['proba'][:5000]\n",
    "stat, p = shapiro(data)\n",
    "\n",
    "stat2, p2 = stats.normaltest(data)\n",
    "\n",
    "plt.hist(data, bins=100)\n",
    "\n",
    "print(stat, p, stat2, p2)"
   ]
  },
  {
   "cell_type": "code",
   "execution_count": 33,
   "metadata": {},
   "outputs": [
    {
     "data": {
      "text/plain": [
       "(0.566299557685852, 0.52817302942276, 0.15404140949249268)"
      ]
     },
     "execution_count": 33,
     "metadata": {},
     "output_type": "execute_result"
    }
   ],
   "source": [
    "results['proba'].mean(), results['proba'].median(), results['proba'].std()"
   ]
  },
  {
   "cell_type": "markdown",
   "metadata": {},
   "source": [
    "### Task_5:"
   ]
  },
  {
   "cell_type": "markdown",
   "metadata": {},
   "source": [
    "5.\tдалее разделить ваш набор данных на два множества: P (positives) и U (unlabeled). Причем брать нужно не все положительные (класс 1) примеры, а только лишь часть"
   ]
  },
  {
   "cell_type": "code",
   "execution_count": 34,
   "metadata": {},
   "outputs": [
    {
     "data": {
      "text/html": [
       "<div>\n",
       "<style scoped>\n",
       "    .dataframe tbody tr th:only-of-type {\n",
       "        vertical-align: middle;\n",
       "    }\n",
       "\n",
       "    .dataframe tbody tr th {\n",
       "        vertical-align: top;\n",
       "    }\n",
       "\n",
       "    .dataframe thead th {\n",
       "        text-align: right;\n",
       "    }\n",
       "</style>\n",
       "<table border=\"1\" class=\"dataframe\">\n",
       "  <thead>\n",
       "    <tr style=\"text-align: right;\">\n",
       "      <th></th>\n",
       "      <th>range</th>\n",
       "      <th>movement</th>\n",
       "      <th>close-MA_25</th>\n",
       "      <th>close-MA_125</th>\n",
       "      <th>MA25/MA125</th>\n",
       "      <th>volume-MA_25</th>\n",
       "      <th>volume-MA_125</th>\n",
       "      <th>volume_MA25/volume_MA125</th>\n",
       "      <th>close-1</th>\n",
       "      <th>close-2</th>\n",
       "      <th>...</th>\n",
       "      <th>volume_MA_25-2</th>\n",
       "      <th>volume_MA_125-1</th>\n",
       "      <th>volume_MA_125-2</th>\n",
       "      <th>volume-MA_25-1</th>\n",
       "      <th>volume-MA_25-2</th>\n",
       "      <th>volume-MA_125-1</th>\n",
       "      <th>volume-MA_125-2</th>\n",
       "      <th>volume_MA25/volume_MA125-1</th>\n",
       "      <th>volume_MA25/volume_MA125-2</th>\n",
       "      <th>target</th>\n",
       "    </tr>\n",
       "    <tr>\n",
       "      <th>date</th>\n",
       "      <th></th>\n",
       "      <th></th>\n",
       "      <th></th>\n",
       "      <th></th>\n",
       "      <th></th>\n",
       "      <th></th>\n",
       "      <th></th>\n",
       "      <th></th>\n",
       "      <th></th>\n",
       "      <th></th>\n",
       "      <th></th>\n",
       "      <th></th>\n",
       "      <th></th>\n",
       "      <th></th>\n",
       "      <th></th>\n",
       "      <th></th>\n",
       "      <th></th>\n",
       "      <th></th>\n",
       "      <th></th>\n",
       "      <th></th>\n",
       "      <th></th>\n",
       "    </tr>\n",
       "  </thead>\n",
       "  <tbody>\n",
       "    <tr>\n",
       "      <th>2000-08-02</th>\n",
       "      <td>0.1</td>\n",
       "      <td>0.1</td>\n",
       "      <td>0.3344</td>\n",
       "      <td>0.15256</td>\n",
       "      <td>-0.037513</td>\n",
       "      <td>357057.64</td>\n",
       "      <td>357489.04</td>\n",
       "      <td>0.014718</td>\n",
       "      <td>-0.1</td>\n",
       "      <td>-0.3</td>\n",
       "      <td>...</td>\n",
       "      <td>-16034.2</td>\n",
       "      <td>-3086.4</td>\n",
       "      <td>-3408.784</td>\n",
       "      <td>-331035.24</td>\n",
       "      <td>-342765.8</td>\n",
       "      <td>-343413.6</td>\n",
       "      <td>-355391.216</td>\n",
       "      <td>-0.470282</td>\n",
       "      <td>-0.48549</td>\n",
       "      <td>1.0</td>\n",
       "    </tr>\n",
       "  </tbody>\n",
       "</table>\n",
       "<p>1 rows × 43 columns</p>\n",
       "</div>"
      ],
      "text/plain": [
       "            range  movement  close-MA_25  close-MA_125  MA25/MA125  \\\n",
       "date                                                                 \n",
       "2000-08-02    0.1       0.1       0.3344       0.15256   -0.037513   \n",
       "\n",
       "            volume-MA_25  volume-MA_125  volume_MA25/volume_MA125  close-1  \\\n",
       "date                                                                         \n",
       "2000-08-02     357057.64      357489.04                  0.014718     -0.1   \n",
       "\n",
       "            close-2  ...  volume_MA_25-2  volume_MA_125-1  volume_MA_125-2  \\\n",
       "date                 ...                                                     \n",
       "2000-08-02     -0.3  ...        -16034.2          -3086.4        -3408.784   \n",
       "\n",
       "            volume-MA_25-1  volume-MA_25-2  volume-MA_125-1  volume-MA_125-2  \\\n",
       "date                                                                           \n",
       "2000-08-02      -331035.24       -342765.8        -343413.6      -355391.216   \n",
       "\n",
       "            volume_MA25/volume_MA125-1  volume_MA25/volume_MA125-2  target  \n",
       "date                                                                        \n",
       "2000-08-02                   -0.470282                    -0.48549     1.0  \n",
       "\n",
       "[1 rows x 43 columns]"
      ]
     },
     "execution_count": 34,
     "metadata": {},
     "output_type": "execute_result"
    }
   ],
   "source": [
    "df.head(1)"
   ]
  },
  {
   "cell_type": "code",
   "execution_count": 35,
   "metadata": {},
   "outputs": [
    {
     "data": {
      "text/plain": [
       "True"
      ]
     },
     "execution_count": 35,
     "metadata": {},
     "output_type": "execute_result"
    }
   ],
   "source": [
    "# Чекнул уникальность значений индекса на всякий (буду по индексу выборку делить).\n",
    "len(set(df.index.unique())) == len(list(df.index))"
   ]
  },
  {
   "cell_type": "markdown",
   "metadata": {},
   "source": [
    "Пусть positive класс - класс 1, т.е. приращение цены положительное."
   ]
  },
  {
   "cell_type": "code",
   "execution_count": 36,
   "metadata": {},
   "outputs": [
    {
     "data": {
      "text/plain": [
       "1.0    2548\n",
       "0.0    2368\n",
       "Name: target, dtype: int64"
      ]
     },
     "execution_count": 36,
     "metadata": {},
     "output_type": "execute_result"
    }
   ],
   "source": [
    "df['target'].value_counts()"
   ]
  },
  {
   "cell_type": "code",
   "execution_count": 37,
   "metadata": {},
   "outputs": [
    {
     "data": {
      "text/plain": [
       "DatetimeIndex(['2004-05-28', '2006-08-15', '2013-05-20', '2002-03-28',\n",
       "               '2017-03-15', '2019-05-29', '2017-10-11', '2016-08-10',\n",
       "               '2018-04-10', '2009-10-30',\n",
       "               ...\n",
       "               '2006-08-25', '2003-12-23', '2009-08-28', '2003-12-19',\n",
       "               '2007-11-09', '2012-09-04', '2007-08-29', '2015-01-30',\n",
       "               '2008-04-15', '2004-01-15'],\n",
       "              dtype='datetime64[ns]', name='date', length=500, freq=None)"
      ]
     },
     "execution_count": 37,
     "metadata": {},
     "output_type": "execute_result"
    }
   ],
   "source": [
    "positive_index = df.loc[df['target'] == 1].sample(500).index\n",
    "positive_index"
   ]
  },
  {
   "cell_type": "code",
   "execution_count": 38,
   "metadata": {},
   "outputs": [
    {
     "data": {
      "text/plain": [
       "4416"
      ]
     },
     "execution_count": 38,
     "metadata": {},
     "output_type": "execute_result"
    }
   ],
   "source": [
    "unlabeled_index = df.loc[~df.index.isin(positive_index)].index\n",
    "len(unlabeled_index)"
   ]
  },
  {
   "cell_type": "code",
   "execution_count": 39,
   "metadata": {},
   "outputs": [
    {
     "data": {
      "text/plain": [
       "DatetimeIndex(['2000-08-02', '2000-08-09', '2000-08-10', '2000-08-11',\n",
       "               '2000-08-14'],\n",
       "              dtype='datetime64[ns]', name='date', freq=None)"
      ]
     },
     "execution_count": 39,
     "metadata": {},
     "output_type": "execute_result"
    }
   ],
   "source": [
    "unlabeled_index[:5]"
   ]
  },
  {
   "cell_type": "markdown",
   "metadata": {},
   "source": [
    "Полный список экземпляров позитивного и негативного класса."
   ]
  },
  {
   "cell_type": "code",
   "execution_count": 40,
   "metadata": {},
   "outputs": [],
   "source": [
    "positive_index_full = df.loc[df['target'] == 1].index\n",
    "negative_index_full = df.loc[df['target'] == 0].index"
   ]
  },
  {
   "cell_type": "markdown",
   "metadata": {},
   "source": [
    "### Task_6:"
   ]
  },
  {
   "cell_type": "markdown",
   "metadata": {},
   "source": [
    "6.\tприменить random negative sampling для построения классификатора в новых условиях"
   ]
  },
  {
   "cell_type": "code",
   "execution_count": 41,
   "metadata": {},
   "outputs": [
    {
     "data": {
      "text/plain": [
       "(1000, 43)"
      ]
     },
     "execution_count": 41,
     "metadata": {},
     "output_type": "execute_result"
    }
   ],
   "source": [
    "# Берем 500 (чтобы классы были сбалансированынми) элементов из unlabeled и отобранные 500 позитивного класса\n",
    "# для получения обучающей выборки.\n",
    "negative_sampling_df = pd.concat([df.loc[df.index.isin(positive_index)],\n",
    "                               df.loc[df.index.isin(unlabeled_index)].sample(500)])\n",
    "\n",
    "negative_sampling_df.shape"
   ]
  },
  {
   "cell_type": "markdown",
   "metadata": {},
   "source": [
    "Размечаем."
   ]
  },
  {
   "cell_type": "code",
   "execution_count": 42,
   "metadata": {},
   "outputs": [],
   "source": [
    "negative_sampling_df.loc[negative_sampling_df.index.isin(positive_index_full), 'target'] = 1\n",
    "negative_sampling_df.loc[negative_sampling_df.index.isin(unlabeled_index), 'target'] = 0"
   ]
  },
  {
   "cell_type": "markdown",
   "metadata": {},
   "source": [
    "Сплитим на обучающую и тестовую подвыборки."
   ]
  },
  {
   "cell_type": "code",
   "execution_count": 43,
   "metadata": {},
   "outputs": [],
   "source": [
    "features = list(df.columns)\n",
    "features.remove('target')\n",
    "\n",
    "# Перемешаем.\n",
    "negative_sampling_df = negative_sampling_df.sample(negative_sampling_df.shape[0])\n",
    "\n",
    "train_percent = 0.65\n",
    "train_sep_index = int(negative_sampling_df.shape[0] * train_percent)\n",
    "\n",
    "X_train = negative_sampling_df[:train_sep_index][features]\n",
    "X_test = negative_sampling_df[train_sep_index:][features]\n",
    "\n",
    "y_train = negative_sampling_df['target'][:train_sep_index]\n",
    "y_test = negative_sampling_df['target'][train_sep_index:]"
   ]
  },
  {
   "cell_type": "markdown",
   "metadata": {},
   "source": [
    "Обучаю модель."
   ]
  },
  {
   "cell_type": "code",
   "execution_count": 44,
   "metadata": {},
   "outputs": [],
   "source": [
    "models = ['XGBoosting', 'forest']\n",
    "model = models[0]\n",
    "\n",
    "if model == 'XGBoosting':\n",
    "    model = XGBClassifier(learning_rate=0.1,\n",
    "                          max_depth=1,\n",
    "                          n_estimators=250)\n",
    "    model = model.fit(X_train, y_train)\n",
    "\n",
    "elif model == 'forest':\n",
    "    model = RandomForestClassifier(max_features=10, min_samples_leaf=125,\n",
    "                          max_depth=10,\n",
    "                          n_estimators=250)\n",
    "    model.fit(X_train, y_train)"
   ]
  },
  {
   "cell_type": "markdown",
   "metadata": {},
   "source": [
    "Предикт и оценка результатов."
   ]
  },
  {
   "cell_type": "code",
   "execution_count": 45,
   "metadata": {},
   "outputs": [
    {
     "name": "stdout",
     "output_type": "stream",
     "text": [
      "порядок классов: [0. 1.]\n"
     ]
    },
    {
     "data": {
      "text/plain": [
       "(0.5996408163265307, 0.40035918367346945, 0.554945054945055)"
      ]
     },
     "execution_count": 45,
     "metadata": {},
     "output_type": "execute_result"
    }
   ],
   "source": [
    "predict = model.predict(X_test)\n",
    "predicted_proba = model.predict_proba(X_test)\n",
    "\n",
    "print('порядок классов:', model.classes_)\n",
    "\n",
    "roc_auc_score(y_test, predicted_proba[:,1]), roc_auc_score(y_test, predicted_proba[:,0]), precision_score(y_test, predict)"
   ]
  },
  {
   "cell_type": "code",
   "execution_count": 46,
   "metadata": {},
   "outputs": [],
   "source": [
    "models_results = pd.concat([models_results,\n",
    "                           pd.DataFrame({'description': ['pu_learning'],\n",
    "                              'roc_auc_negative_class': [roc_auc_score(y_test, predicted_proba[:,0])],\n",
    "                              'roc_auc_positive_class': [roc_auc_score(y_test, predicted_proba[:,1])],\n",
    "                              'precision_score': precision_score(y_test, predict)})])"
   ]
  },
  {
   "cell_type": "markdown",
   "metadata": {},
   "source": [
    "Качество прогноза для позитивного класса выросло. Что бы это значило... Негативный класс у нас \"грязный\", модели сложнее находить в нем закономерности (относительно варианта с истинным негативным классом), поэтому качество предикта по негативному классу ухудшилось. Но почему по позитивному классу качество предикта выросло, сдается мне, что работает только на выборках где негативный класс - это на самом деле unlabeled. Проверю гипотезу на выборке с истинно негативным классом. А, ну хотя если мы плохо предиктим один класс, то хорошо предиктим другой? - Тоже гипотеза."
   ]
  },
  {
   "cell_type": "code",
   "execution_count": 47,
   "metadata": {},
   "outputs": [
    {
     "data": {
      "text/html": [
       "<div>\n",
       "<style scoped>\n",
       "    .dataframe tbody tr th:only-of-type {\n",
       "        vertical-align: middle;\n",
       "    }\n",
       "\n",
       "    .dataframe tbody tr th {\n",
       "        vertical-align: top;\n",
       "    }\n",
       "\n",
       "    .dataframe thead th {\n",
       "        text-align: right;\n",
       "    }\n",
       "</style>\n",
       "<table border=\"1\" class=\"dataframe\">\n",
       "  <thead>\n",
       "    <tr style=\"text-align: right;\">\n",
       "      <th></th>\n",
       "      <th>description</th>\n",
       "      <th>roc_auc_negative_class</th>\n",
       "      <th>roc_auc_positive_class</th>\n",
       "      <th>precision_score</th>\n",
       "    </tr>\n",
       "  </thead>\n",
       "  <tbody>\n",
       "    <tr>\n",
       "      <th>0</th>\n",
       "      <td>labeled_learning</td>\n",
       "      <td>0.498047</td>\n",
       "      <td>0.501953</td>\n",
       "      <td>0.515152</td>\n",
       "    </tr>\n",
       "    <tr>\n",
       "      <th>0</th>\n",
       "      <td>pu_learning</td>\n",
       "      <td>0.400359</td>\n",
       "      <td>0.599641</td>\n",
       "      <td>0.554945</td>\n",
       "    </tr>\n",
       "  </tbody>\n",
       "</table>\n",
       "</div>"
      ],
      "text/plain": [
       "        description  roc_auc_negative_class  roc_auc_positive_class  \\\n",
       "0  labeled_learning                0.498047                0.501953   \n",
       "0       pu_learning                0.400359                0.599641   \n",
       "\n",
       "   precision_score  \n",
       "0         0.515152  \n",
       "0         0.554945  "
      ]
     },
     "execution_count": 47,
     "metadata": {},
     "output_type": "execute_result"
    }
   ],
   "source": [
    "models_results"
   ]
  },
  {
   "cell_type": "markdown",
   "metadata": {},
   "source": [
    "Проверка гипотезы про то, что хорошие результаты по одному классу, ведут к плохим по другому для бинарной классификации."
   ]
  },
  {
   "cell_type": "code",
   "execution_count": 48,
   "metadata": {},
   "outputs": [
    {
     "data": {
      "text/plain": [
       "0    1.0\n",
       "dtype: float64"
      ]
     },
     "execution_count": 48,
     "metadata": {},
     "output_type": "execute_result"
    }
   ],
   "source": [
    "models_results.loc[models_results['description'] == 'labeled_learning', 'roc_auc_positive_class'] +\\\n",
    "models_results.loc[models_results['description'] == 'labeled_learning', 'roc_auc_negative_class']"
   ]
  },
  {
   "cell_type": "code",
   "execution_count": 49,
   "metadata": {},
   "outputs": [
    {
     "data": {
      "text/plain": [
       "0    1.0\n",
       "dtype: float64"
      ]
     },
     "execution_count": 49,
     "metadata": {},
     "output_type": "execute_result"
    }
   ],
   "source": [
    "models_results.loc[models_results['description'] == 'pu_learning', 'roc_auc_positive_class'] +\\\n",
    "models_results.loc[models_results['description'] == 'pu_learning', 'roc_auc_negative_class']"
   ]
  },
  {
   "cell_type": "markdown",
   "metadata": {},
   "source": [
    "Подтверждается, данная метрика работает именно так, что сумма метрик для разных классов = 1.\n",
    "\n",
    "Кстати, random_state не прописывал и, похоже, то что метрика для позитивного класса выросла как показывают доп. пара прогонов вполне может быть случайным вектором."
   ]
  },
  {
   "cell_type": "markdown",
   "metadata": {},
   "source": [
    "### Task_7:"
   ]
  },
  {
   "cell_type": "markdown",
   "metadata": {},
   "source": [
    "7.\tсравнить качество с решением из пункта 4 (построить отчет - таблицу метрик)"
   ]
  },
  {
   "cell_type": "code",
   "execution_count": 50,
   "metadata": {},
   "outputs": [
    {
     "data": {
      "text/html": [
       "<div>\n",
       "<style scoped>\n",
       "    .dataframe tbody tr th:only-of-type {\n",
       "        vertical-align: middle;\n",
       "    }\n",
       "\n",
       "    .dataframe tbody tr th {\n",
       "        vertical-align: top;\n",
       "    }\n",
       "\n",
       "    .dataframe thead th {\n",
       "        text-align: right;\n",
       "    }\n",
       "</style>\n",
       "<table border=\"1\" class=\"dataframe\">\n",
       "  <thead>\n",
       "    <tr style=\"text-align: right;\">\n",
       "      <th></th>\n",
       "      <th>description</th>\n",
       "      <th>roc_auc_negative_class</th>\n",
       "      <th>roc_auc_positive_class</th>\n",
       "      <th>precision_score</th>\n",
       "    </tr>\n",
       "  </thead>\n",
       "  <tbody>\n",
       "    <tr>\n",
       "      <th>0</th>\n",
       "      <td>labeled_learning</td>\n",
       "      <td>0.498047</td>\n",
       "      <td>0.501953</td>\n",
       "      <td>0.515152</td>\n",
       "    </tr>\n",
       "    <tr>\n",
       "      <th>0</th>\n",
       "      <td>pu_learning</td>\n",
       "      <td>0.400359</td>\n",
       "      <td>0.599641</td>\n",
       "      <td>0.554945</td>\n",
       "    </tr>\n",
       "  </tbody>\n",
       "</table>\n",
       "</div>"
      ],
      "text/plain": [
       "        description  roc_auc_negative_class  roc_auc_positive_class  \\\n",
       "0  labeled_learning                0.498047                0.501953   \n",
       "0       pu_learning                0.400359                0.599641   \n",
       "\n",
       "   precision_score  \n",
       "0         0.515152  \n",
       "0         0.554945  "
      ]
     },
     "execution_count": 50,
     "metadata": {},
     "output_type": "execute_result"
    }
   ],
   "source": [
    "models_results"
   ]
  },
  {
   "cell_type": "markdown",
   "metadata": {},
   "source": [
    "Метрики, которые смотрят на качество предиктов по конкретному классу в целом для оценки качества предиктов на сбалансированной выборке, получается, нерелевантны. Одна растет -> другая падает и наоборот. Смотрим на precision_score - метрика закономерно упала. Зашумленные \"грязной\" разметкой данные дают ожидаемо худший результат при обучении с учителем, чем чистые данные, все четко. Можно было бы провести ещё несколько итерации уже с уверенно негативными метками, повышая качество модели и её предиктов."
   ]
  }
 ],
 "metadata": {
  "kernelspec": {
   "display_name": "Python 3",
   "language": "python",
   "name": "python3"
  },
  "language_info": {
   "codemirror_mode": {
    "name": "ipython",
    "version": 3
   },
   "file_extension": ".py",
   "mimetype": "text/x-python",
   "name": "python",
   "nbconvert_exporter": "python",
   "pygments_lexer": "ipython3",
   "version": "3.7.3"
  }
 },
 "nbformat": 4,
 "nbformat_minor": 2
}
